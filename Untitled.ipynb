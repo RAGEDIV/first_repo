{
 "cells": [
  {
   "cell_type": "code",
   "execution_count": 1,
   "id": "6bc730a4",
   "metadata": {},
   "outputs": [
    {
     "name": "stdout",
     "output_type": "stream",
     "text": [
      "*\n",
      "**\n",
      "***\n",
      "****\n",
      "*****\n"
     ]
    }
   ],
   "source": [
    "for i in range(1,6):\n",
    "    for j in range(1,i+1):\n",
    "        print(\"*\",end=\"\")\n",
    "    print()"
   ]
  },
  {
   "cell_type": "code",
   "execution_count": 1,
   "id": "91e92e90",
   "metadata": {},
   "outputs": [
    {
     "name": "stdout",
     "output_type": "stream",
     "text": [
      "5\n",
      "harry\n",
      "23.4\n",
      "berry\n",
      "23.4\n",
      "ravi\n",
      "21.8\n",
      "shyam\n",
      "50.0\n",
      "shivam\n",
      "36.4\n",
      "berry\n",
      "harry\n"
     ]
    }
   ],
   "source": [
    "records=[]\n",
    "names=[]\n",
    "scores=[]\n",
    "for _ in range(int(input())):\n",
    "    name=input()\n",
    "    score=float(input())\n",
    "    records.append([name,score])\n",
    "    if score not in scores:\n",
    "        scores.append(score)\n",
    "scores.sort()\n",
    "second_lowest=scores[1]\n",
    "for x in records:\n",
    "    if x[1]==second_lowest:\n",
    "        names.append(x[0])\n",
    "names.sort()\n",
    "for x in names:\n",
    "    print(x)\n",
    "\n"
   ]
  },
  {
   "cell_type": "raw",
   "id": "63dd8766",
   "metadata": {},
   "source": [
    "# "
   ]
  }
 ],
 "metadata": {
  "kernelspec": {
   "display_name": "Python 3 (ipykernel)",
   "language": "python",
   "name": "python3"
  },
  "language_info": {
   "codemirror_mode": {
    "name": "ipython",
    "version": 3
   },
   "file_extension": ".py",
   "mimetype": "text/x-python",
   "name": "python",
   "nbconvert_exporter": "python",
   "pygments_lexer": "ipython3",
   "version": "3.11.1"
  }
 },
 "nbformat": 4,
 "nbformat_minor": 5
}
